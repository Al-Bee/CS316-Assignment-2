{
 "cells": [
  {
   "cell_type": "markdown",
   "id": "883ee6ef-bd0c-493f-a708-ed41f440fe95",
   "metadata": {},
   "source": [
    "# Assignment 2"
   ]
  },
  {
   "cell_type": "markdown",
   "id": "ad0f1625-a7ad-48f1-a076-419e1ea6390c",
   "metadata": {},
   "source": [
    "### COMPSCI 316: Cyber Security, Semester 2, 2024"
   ]
  },
  {
   "cell_type": "markdown",
   "id": "1cd34202-e15e-4a88-a3ae-cdedd42894f0",
   "metadata": {},
   "source": [
    "This assignment is worth 100 marks. The weight of this assignment is 10% of the course. The deadline to submit this assignment is Friday, September 20, 23:59 hrs NZ Time. A 10% penalty will be applied for each day of late submission, with a maximum allowed delay of 5 days. The assignment must be submitted through Canvas.\n",
    "\n",
    "For answers containing brief explanations you may use APA or IEEE  referencing style (https://libguides.victoria.ac.nz/statistics/referencing)\n",
    "\n",
    "Note. Sharing assignment solutions does not help in your learning. Consequently, our academic integrity policy does not permit sharing solutions or source code leading to solutions. Violation of this will result in your assignment submission attracting no marks, and you may also face disciplinary actions. Therefore, please do not share assignments, assignment solutions or source code leading to assignment solutions. Do not publish or make available your assignments or solutions online. You will be liable if someone copies your solution. Please talk to us if you have any doubts about what is legit and what is not.\n",
    "\n",
    "Do not leave your computers, devices, and belongings unattended — you must always secure these to prevent anyone from accessing your assignments or solutions.\n",
    "For more information, see our University’s Student Academic Conduct Statute\n"
   ]
  },
  {
   "cell_type": "code",
   "execution_count": null,
   "id": "bc975a17-b0fd-4bcc-a6ad-fda3a45f38d6",
   "metadata": {},
   "outputs": [],
   "source": [
    "# UPIs of the team members\n",
    "# abor022\n",
    "# pguy639\n",
    "# jlaz587\n",
    "#\n",
    "#\n",
    "#"
   ]
  },
  {
   "cell_type": "markdown",
   "id": "38fcf296-9f87-4409-90a3-a58f6f5edac2",
   "metadata": {},
   "source": [
    "# Question 1 (10 marks)"
   ]
  },
  {
   "cell_type": "markdown",
   "id": "65cc0629-ae7d-4370-acc3-643b0756c822",
   "metadata": {
    "tags": []
   },
   "source": [
    "<b>“Privacy is a Social Construct”</b>. Comment on this statement along three different aspects of the society (e.g, Religion, education etc). For each aspect, include appropriate real-life examples to justify the answer. You can include any positive or negative examples. Include proper references to support the answer.\n",
    "\n",
    "•\tExplanation along three aspects [6 marks]<br>\n",
    "•\tAt least one example for each aspect [3 marks]<br>\n",
    "•\tJustification with proper referencing [1 mark]\n"
   ]
  },
  {
   "cell_type": "markdown",
   "id": "6bde569b-c0f4-4756-ae2f-68fd2d1a7610",
   "metadata": {},
   "source": [
    "We believe that privacy is a social construct, but that it is also a constantly evolving and highly situational one. This can be illustrated by considering the concept of privacy through three social aspects: politics, religion, and justice.\n",
    "\n",
    "Politically, attempts to define privacy stretch back millennia; from Aristotle’s separation of the ‘public’ political sphere (polis) and the ‘private’ domestic sphere (oikos) in his Politics (350 BCE), to John Locke’s assertion that “the obligation to obey civil government under the social contract was conditional upon the protection of the natural rights of each person, including the right to private property” (Britannica, 2024), with ‘property’ in this context referring not only to possessions but one’s own body, thoughts, and beliefs. Such political philosophy led to modern laws such as New Zealand’s Privacy Act (2020) which “governs how agencies collect, use, retain, and disclose personal information” (Falefo’ou, 2023), and it could be argued that the need for legislation around privacy defines it as a social construct rather than a natural law.\n",
    "\n",
    "As religions cannot exist without a society of believers, they may be one of the ultimate social constructs and it is no coincidence that privacy is a core tenet of many of them. Within Catholicism, the act of surrendering privacy through the act of confession is fundamental to the faith and “it is absolutely forbidden for a confessor to betray in any way a penitent in words or in any manner and for any reason” (Code of Canon Law - Book IV - Function of the Church Liber (Cann. 959-997), n.d.). While the United Methodist Church recognises that privacy can be abused, they also state “The power to control one’s own information is the mark of a free person rather than a slave” (Right to Privacy, 2016), linking privacy directly to freedom, which in itself is a social construct.\n",
    "\n",
    "Within the justice system, an accused party can be granted name suppression to keep their personal details private and minimise damage to their reputation due to the principle of presumption of innocence. This may even be maintained post-conviction in order to protect the privacy of the victims of a crime, but once incarcerated, the perpetrator is often systematically stripped of their privacy; the ‘perfect’ prison is often considered to be Bentham’s Panopticon, a circular building with a central guard tower where “Each individual, in his place, is securely confined to a cell from which he is seen from the front by the supervisor… but he does not see; he is the object of information, never a subject in communication” (Foucault, 1995). This ability to grant or relinquish privacy further cements it as a social construct.\n",
    "\n",
    "##### References:\n",
    "\n",
    "Britannica, T. E. (2024, July 29th). social contract. Retrieved from Encyclopedia Britannica: https://www.britannica.com/topic/social-contract<br>\n",
    "Code of Canon Law - Book IV - Function of the Church Liber (Cann. 959-997). (n.d.). Retrieved from vatican.va: https://www.vatican.va/archive/cod-iuris-canonici/eng/documents/cic_lib4-cann959-997_en.html#TITLE_IV.<br>\n",
    "Falefo’ou, S. (2023, February 2). Why privacy in New Zealand is such a vital issue. Retrieved from privacy.org.nz: https://www.privacy.org.nz/blog/why-privacy-in-new-zealand-is-such-a-vital-issue/#:~:text=John%20Locke%20was%20an%20influential,a%20person's%20property%20or%20affairs.<br>\n",
    "Foucault, M. (1995). Discipline and Punish (A. Sheridan, Trans.). New York: Random House, Inc.<br>\n",
    "Right to Privacy. (2016). Retrieved from umcjustice.org: https://www.umcjustice.org/latest/right-to-privacy-176"
   ]
  },
  {
   "cell_type": "markdown",
   "id": "60284f8d-14d5-4b7e-a9dc-b4e4e95f43a8",
   "metadata": {},
   "source": [
    "# Question 2 (20 marks)"
   ]
  },
  {
   "cell_type": "markdown",
   "id": "0ec3065e-55c8-4e99-8bde-d555803b5328",
   "metadata": {},
   "source": [
    "<b>Organisational Privacy Climate </b> refers to the influence of the organisation’s environment on developers’ privacy-preserving mindset and behaviour.\n",
    "<b>EduPlay</b> is a software startup with 20 employees. They develop educational applications for children. Their main product, <b>EduQuest</b>, is a gamified educational app designed for kids aged 6 to 12 in NZ. It handles personal data including names, age, grade, learning progress, and product usage details. In the future, EduQuest will be released to the European market.\n"
   ]
  },
  {
   "cell_type": "markdown",
   "id": "2fbe8cac-d363-436c-ac62-bad27172a8f2",
   "metadata": {
    "tags": []
   },
   "source": [
    "### Question 2.1"
   ]
  },
  {
   "cell_type": "markdown",
   "id": "1ab6809e-4d2b-429a-b650-a3486d739c96",
   "metadata": {},
   "source": [
    "Why is a strong privacy climate important for a software company? Use the following points to guide your answer.<br>\n",
    "•\tWhy is privacy protection in software apps essential/required? [3 marks]<br>\n",
    "•\tHow can a poor privacy climate affect the privacy protection levels? [5 marks]\n"
   ]
  },
  {
   "cell_type": "markdown",
   "id": "7988ef6e-7d0a-42ee-b62a-2de59736cd74",
   "metadata": {},
   "source": [
    "##### Why is privacy protection in software apps essential/required?\n",
    "\t\n",
    "Privacy protection in software applications is essential and often legally required for a number of reasons. While the necessity of complying with regulations such as the GDPR is obviously a large factor, it is also beneficial for organisations to be proactive when considering end-user privacy: a clearly-defined and communicated privacy policy builds trust with customers and other organisations, and measures such as an incident response plan reduce the impact of any data breaches that do occur by allowing developers to identify and react to attacks quickly. Embracing this ‘privacy first’ mindset while developing software helps to avoid both financial penalties and damage to an organisation’s reputation from potential data/privacy breaches.\n",
    "\n",
    "##### How can a poor privacy climate affect the privacy protection levels?\n",
    "\n",
    "A poor privacy climate within an organisation such as EduPlay can negatively impact privacy protection in many ways. As the startup is relatively small, it is likely that software/database privacy protection and security will be left up to the software developers rather than a separate team; this extra workload will likely take a back-seat to meeting production deadlines, leading to privacy becoming an afterthought. Consequentially, staff and developers may focus on compliance with laws and regulations rather than respecting the privacy of their users, as mentioned in Ann Cavoukian’s Privacy by Design in Law, Policy and Practice  white paper (Cavoukian, 2011, p29). Alongside this, a lack of education/understanding of privacy protection can lead employees to have a narrow focus on specific external threats (i.e from outside the organisation) such as password and SQL injection attacks, leaving them vulnerable to social engineering attacks such as spear-phishing and tailgating. Furthermore, a poor privacy climate may lead to failure to integrate a Privacy by Design approach (again outlined by Ann Cavoukian) that can cause complexities when users request their data to be removed - databases may need to be manually updated or automation may be inconsistent, leading to incomplete removal of private information and non-compliance with regulations and potentially causing vulnerabilities that may be exploited by attackers.\n",
    "\n",
    "##### References:\n",
    "\n",
    "Cavoukian, A. (2011, August). Privacy by Design in Law, Policy and Practice. Information and Privacy Commissioner, Ontario, Canada."
   ]
  },
  {
   "cell_type": "markdown",
   "id": "495310f0-6b3c-4171-b6b7-95cb603e0882",
   "metadata": {},
   "source": [
    "### Question 2.2"
   ]
  },
  {
   "cell_type": "markdown",
   "id": "ff1692f5-95eb-4d7a-a775-e6e2fe82f791",
   "metadata": {},
   "source": [
    "Describe 4 steps you suggest to improve the privacy climate of EduPlay. [12 marks]"
   ]
  },
  {
   "cell_type": "markdown",
   "id": "71bc7586-d5cf-4985-9108-d673aa5dbbff",
   "metadata": {},
   "source": [
    "__1)__ Implement a ‘privacy by design’ policy with a guide for EduPlay’s developers to follow, outlining the scope of user data that will be collected and the potential threats to user privacy in the event of a data breach, as well as how to best minimise vulnerabilities through best practices such as code comments within the EduQuest codebase outlining where and why data is being accessed, the implementation of automated database update functionality to allow easy user opt-out etc.\n",
    "\n",
    "__2)__ Create a pro-privacy culture within EduPlay, focusing on respecting and protecting users  as suggested by Cavoukian (2011) rather than purely complying with regulations. Aim for best-practices such as data minimisation to ensure no unnecessary personal information is stored, both reducing risks to users and helping to ensure EduQuest will comply with GDPR regulations when releasing in the European market.\n",
    "\n",
    "__3)__ Define roles within EduPlay with varying levels of privilege based around the principle of least access to manage who has access to private data, databases, decryption keys etc. This will reduce the potential damage from a successful social engineering attack by minimising the amount of staff that have direct access to sensitive information (and the means to decrypt it in the case of encrypted databases).\n",
    "\n",
    "__4)__ Carry out regular risk analysis with developer and management input to track and respond to threats and vulnerabilities around privacy protection, ensuring that the living risk analysis document is easily accessed and understood to ensure organisation-wide compliance, particularly by new staff as EduPlay’s market broadens and the development team grows.\n",
    "\n",
    "##### References:\n",
    "\n",
    "Cavoukian, A. (2011, August). Privacy by Design in Law, Policy and Practice. Information and Privacy Commissioner, Ontario, Canada.\n"
   ]
  },
  {
   "cell_type": "markdown",
   "id": "0cd4f2e4-b1be-4a55-9fad-e1273463dd7b",
   "metadata": {},
   "source": [
    "# Question 3 (20 marks)"
   ]
  },
  {
   "cell_type": "markdown",
   "id": "df044e28-ec95-486a-8e84-31a01f395879",
   "metadata": {},
   "source": [
    "A software company plans to build a system: “MediO”, that allows decentralised hospitals to collaboratively share their data with external investigators. Each hospital tests a new vaccine on patients with a rare genetic disorder and uses a remote Storage and Processing Unit (SPU) to store and process clinical data, personal identifiers and contact details. For each query asked by the external investigators, MediO requests answers from all SPUs and returns an aggregated answer. MediO is expected to handle data of 1500 patients."
   ]
  },
  {
   "cell_type": "markdown",
   "id": "c97831bc-671a-4d58-97ac-3059c82fc831",
   "metadata": {},
   "source": [
    "### Question 3.1"
   ]
  },
  {
   "cell_type": "markdown",
   "id": "5ca01708-7d66-4ced-8a22-29f2a805321d",
   "metadata": {},
   "source": [
    "Identify 5 personal data items that the SPU’s would likely to handle. Classify them into sensitive and non-sensitive data. [2 marks]"
   ]
  },
  {
   "cell_type": "markdown",
   "id": "faef8419-03ef-4de1-80f8-0d727929d7cc",
   "metadata": {},
   "source": [
    "__Name__ (sensitive)\n",
    "\n",
    "__Date of Birth/Age__ (sensitive)\n",
    "\n",
    "__Gender__ (sensitive)\n",
    "\n",
    "__Contact Details__ (sensitive/non-sensitive)\n",
    "\n",
    "__Test Results__ (sensitive)"
   ]
  },
  {
   "cell_type": "markdown",
   "id": "bd6d876a-28ca-4ad7-be50-5900eed1e08f",
   "metadata": {},
   "source": [
    "### Question 3.2"
   ]
  },
  {
   "cell_type": "markdown",
   "id": "68a51281-0366-402f-ad20-ddead0090b81",
   "metadata": {},
   "source": [
    "Select 5 threats categories from the LINDDUN threat model. For each category, identify one privacy threat present in MediO. [10 marks] Help : https://linddun.org/"
   ]
  },
  {
   "cell_type": "markdown",
   "id": "ec510f38-a9bf-4579-897a-d31b90c48f2b",
   "metadata": {},
   "source": [
    "__Linking:__ Patients who have been to multiple hospitals will have had their data collected from each hospital, so someone could link the patient data from the different hospitals to reveal a patient’s identity, even if the data is made to be anonymous. If multiple hospitals have medical data about a patient with this rare genetic disorder and specific treatments, it will be easy to find the patient.\n",
    "\n",
    "__Identifying:__ Even if the patient data has been generalised, a patient could be identified if a combination of medical data, such as test results from the using the vaccine, age range, gender, zip code, etc., is used, or if any background details of a patient are known as MediO is only handling the data of 1500 patients, making it easy to narrow down a patient.\n",
    "\n",
    "__Data Disclosure:__ MediO may collect more data from a patient than necessary. The vaccine testing may not require some of the information collected. If there is a data breach, there will be a more significant impact as more sensitive information will be exposed, resulting in privacy violations and possibly stolen information.\n",
    "\n",
    "__Unawareness:__ The patients may be unaware of how their data is being used and shared by MediO and the external investigators. Patients may be unaware that their data may be used for external research or shared with third parties.\n",
    "\n",
    "__Detecting:__ A combination of data such as the patient's age range, gender, zip code,  and vaccine test results may allow someone to narrow down and detect patients to whom the data belongs.\n"
   ]
  },
  {
   "cell_type": "markdown",
   "id": "1d93b411-262d-4214-b352-cd1b71a666f4",
   "metadata": {},
   "source": [
    "### Question 3.3"
   ]
  },
  {
   "cell_type": "markdown",
   "id": "8e9d6796-458d-4bbd-a0c5-de99db2bfae9",
   "metadata": {},
   "source": [
    "Name 4 measures that you can take to mitigate the threats identified in Question 3.2. The answers should include both non-technical and technical measures. Describe the reasons for choosing each measure. [8 marks]"
   ]
  },
  {
   "cell_type": "markdown",
   "id": "1e777308-f1bf-4ec2-88ef-14ce44c96aba",
   "metadata": {},
   "source": [
    "<font color=\"blue\"> Write your answer </font>"
   ]
  },
  {
   "cell_type": "markdown",
   "id": "f96d45a7-4777-4734-807e-0d351933c7ed",
   "metadata": {},
   "source": [
    "# Question 4 (25 marks)"
   ]
  },
  {
   "cell_type": "markdown",
   "id": "34fe17fb-0135-4607-92c1-80fa3525c8e5",
   "metadata": {},
   "source": [
    "Download <b>“UOA_counseling_dataset.csv”</b> from Canvas. The CSV file includes data of the students who attended counselling sessions conducted by the University’s Health Centre. An external research group is requesting the dataset to analyse the psychological issues of UoA students.\n",
    "Apply <b>3-Anonymity</b> to the dataset "
   ]
  },
  {
   "cell_type": "code",
   "execution_count": 3,
   "id": "074e391d-c0b6-4372-82c3-7cfc900ab09c",
   "metadata": {
    "tags": []
   },
   "outputs": [
    {
     "name": "stdout",
     "output_type": "stream",
     "text": [
      "Requirement already satisfied: pandas in c:\\users\\alist\\anaconda3\\lib\\site-packages (2.2.2)\n",
      "Requirement already satisfied: numpy>=1.26.0 in c:\\users\\alist\\anaconda3\\lib\\site-packages (from pandas) (1.26.4)\n",
      "Requirement already satisfied: python-dateutil>=2.8.2 in c:\\users\\alist\\anaconda3\\lib\\site-packages (from pandas) (2.9.0.post0)\n",
      "Requirement already satisfied: pytz>=2020.1 in c:\\users\\alist\\anaconda3\\lib\\site-packages (from pandas) (2024.1)\n",
      "Requirement already satisfied: tzdata>=2022.7 in c:\\users\\alist\\anaconda3\\lib\\site-packages (from pandas) (2023.3)\n",
      "Requirement already satisfied: six>=1.5 in c:\\users\\alist\\anaconda3\\lib\\site-packages (from python-dateutil>=2.8.2->pandas) (1.16.0)\n",
      "Requirement already satisfied: matplotlib in c:\\users\\alist\\anaconda3\\lib\\site-packages (3.8.4)\n",
      "Requirement already satisfied: contourpy>=1.0.1 in c:\\users\\alist\\anaconda3\\lib\\site-packages (from matplotlib) (1.2.0)\n",
      "Requirement already satisfied: cycler>=0.10 in c:\\users\\alist\\anaconda3\\lib\\site-packages (from matplotlib) (0.11.0)\n",
      "Requirement already satisfied: fonttools>=4.22.0 in c:\\users\\alist\\anaconda3\\lib\\site-packages (from matplotlib) (4.51.0)\n",
      "Requirement already satisfied: kiwisolver>=1.3.1 in c:\\users\\alist\\anaconda3\\lib\\site-packages (from matplotlib) (1.4.4)\n",
      "Requirement already satisfied: numpy>=1.21 in c:\\users\\alist\\anaconda3\\lib\\site-packages (from matplotlib) (1.26.4)\n",
      "Requirement already satisfied: packaging>=20.0 in c:\\users\\alist\\anaconda3\\lib\\site-packages (from matplotlib) (23.2)\n",
      "Requirement already satisfied: pillow>=8 in c:\\users\\alist\\anaconda3\\lib\\site-packages (from matplotlib) (10.3.0)\n",
      "Requirement already satisfied: pyparsing>=2.3.1 in c:\\users\\alist\\anaconda3\\lib\\site-packages (from matplotlib) (3.0.9)\n",
      "Requirement already satisfied: python-dateutil>=2.7 in c:\\users\\alist\\anaconda3\\lib\\site-packages (from matplotlib) (2.9.0.post0)\n",
      "Requirement already satisfied: six>=1.5 in c:\\users\\alist\\anaconda3\\lib\\site-packages (from python-dateutil>=2.7->matplotlib) (1.16.0)\n",
      "Requirement already satisfied: seaborn in c:\\users\\alist\\anaconda3\\lib\\site-packages (0.13.2)\n",
      "Requirement already satisfied: numpy!=1.24.0,>=1.20 in c:\\users\\alist\\anaconda3\\lib\\site-packages (from seaborn) (1.26.4)\n",
      "Requirement already satisfied: pandas>=1.2 in c:\\users\\alist\\anaconda3\\lib\\site-packages (from seaborn) (2.2.2)\n",
      "Requirement already satisfied: matplotlib!=3.6.1,>=3.4 in c:\\users\\alist\\anaconda3\\lib\\site-packages (from seaborn) (3.8.4)\n",
      "Requirement already satisfied: contourpy>=1.0.1 in c:\\users\\alist\\anaconda3\\lib\\site-packages (from matplotlib!=3.6.1,>=3.4->seaborn) (1.2.0)\n",
      "Requirement already satisfied: cycler>=0.10 in c:\\users\\alist\\anaconda3\\lib\\site-packages (from matplotlib!=3.6.1,>=3.4->seaborn) (0.11.0)\n",
      "Requirement already satisfied: fonttools>=4.22.0 in c:\\users\\alist\\anaconda3\\lib\\site-packages (from matplotlib!=3.6.1,>=3.4->seaborn) (4.51.0)\n",
      "Requirement already satisfied: kiwisolver>=1.3.1 in c:\\users\\alist\\anaconda3\\lib\\site-packages (from matplotlib!=3.6.1,>=3.4->seaborn) (1.4.4)\n",
      "Requirement already satisfied: packaging>=20.0 in c:\\users\\alist\\anaconda3\\lib\\site-packages (from matplotlib!=3.6.1,>=3.4->seaborn) (23.2)\n",
      "Requirement already satisfied: pillow>=8 in c:\\users\\alist\\anaconda3\\lib\\site-packages (from matplotlib!=3.6.1,>=3.4->seaborn) (10.3.0)\n",
      "Requirement already satisfied: pyparsing>=2.3.1 in c:\\users\\alist\\anaconda3\\lib\\site-packages (from matplotlib!=3.6.1,>=3.4->seaborn) (3.0.9)\n",
      "Requirement already satisfied: python-dateutil>=2.7 in c:\\users\\alist\\anaconda3\\lib\\site-packages (from matplotlib!=3.6.1,>=3.4->seaborn) (2.9.0.post0)\n",
      "Requirement already satisfied: pytz>=2020.1 in c:\\users\\alist\\anaconda3\\lib\\site-packages (from pandas>=1.2->seaborn) (2024.1)\n",
      "Requirement already satisfied: tzdata>=2022.7 in c:\\users\\alist\\anaconda3\\lib\\site-packages (from pandas>=1.2->seaborn) (2023.3)\n",
      "Requirement already satisfied: six>=1.5 in c:\\users\\alist\\anaconda3\\lib\\site-packages (from python-dateutil>=2.7->matplotlib!=3.6.1,>=3.4->seaborn) (1.16.0)\n",
      "Requirement already satisfied: datetime in c:\\users\\alist\\anaconda3\\lib\\site-packages (5.5)\n",
      "Requirement already satisfied: zope.interface in c:\\users\\alist\\anaconda3\\lib\\site-packages (from datetime) (5.4.0)\n",
      "Requirement already satisfied: pytz in c:\\users\\alist\\anaconda3\\lib\\site-packages (from datetime) (2024.1)\n",
      "Requirement already satisfied: setuptools in c:\\users\\alist\\anaconda3\\lib\\site-packages (from zope.interface->datetime) (69.5.1)\n"
     ]
    }
   ],
   "source": [
    "!pip3 install pandas\n",
    "!pip3 install matplotlib\n",
    "!pip3 install seaborn\n",
    "!pip3 install datetime\n",
    "\n",
    "#Importing the libraries\n",
    "\n",
    "import pandas as pd\n",
    "import numpy as np\n",
    "import matplotlib.pyplot as plt\n",
    "import seaborn as sns\n",
    "from datetime import datetime"
   ]
  },
  {
   "cell_type": "code",
   "execution_count": 4,
   "id": "77f904f6-92c4-44b9-8190-285b5ddbbef4",
   "metadata": {},
   "outputs": [
    {
     "name": "stdout",
     "output_type": "stream",
     "text": [
      "<class 'pandas.core.frame.DataFrame'>\n",
      "RangeIndex: 500 entries, 0 to 499\n",
      "Data columns (total 25 columns):\n",
      " #   Column             Non-Null Count  Dtype \n",
      "---  ------             --------------  ----- \n",
      " 0   Full Name          500 non-null    object\n",
      " 1   Student ID         500 non-null    object\n",
      " 2   Email              500 non-null    object\n",
      " 3   Preferred Email    500 non-null    object\n",
      " 4   Mobile Number      500 non-null    int64 \n",
      " 5   Address            500 non-null    object\n",
      " 6   ZIP                500 non-null    int64 \n",
      " 7   DoB                500 non-null    object\n",
      " 8   Sessions Offered   500 non-null    int64 \n",
      " 9   Sessions Attended  500 non-null    int64 \n",
      " 10  Gender             500 non-null    object\n",
      " 11  Ethnicity          500 non-null    object\n",
      " 12  Study Field        500 non-null    object\n",
      " 13  Sexual Abuse       500 non-null    int64 \n",
      " 14  Suicidal           500 non-null    int64 \n",
      " 15  Self Harm          500 non-null    int64 \n",
      " 16  Anxiety            500 non-null    int64 \n",
      " 17  Depression         500 non-null    int64 \n",
      " 18  Eating Disorder    500 non-null    int64 \n",
      " 19  Health             500 non-null    int64 \n",
      " 20  Risk to Others     500 non-null    int64 \n",
      " 21  Anger              500 non-null    int64 \n",
      " 22  Alcohol            500 non-null    int64 \n",
      " 23  Drugs              500 non-null    int64 \n",
      " 24  Smoking            500 non-null    int64 \n",
      "dtypes: int64(16), object(9)\n",
      "memory usage: 97.8+ KB\n"
     ]
    }
   ],
   "source": [
    "#Let's start with a simple dataset\n",
    "data_anon = pd.read_csv('UOA_counseling_dataset.csv')\n",
    "data_anon.info()"
   ]
  },
  {
   "cell_type": "markdown",
   "id": "07c7e65e-c64e-4537-8dce-99a47ae4b2a3",
   "metadata": {},
   "source": [
    "### Question 4.1"
   ]
  },
  {
   "cell_type": "markdown",
   "id": "1e6187c3-f6e3-4258-8713-4331203049c2",
   "metadata": {},
   "source": [
    "Preprocessing is done before data analysis to prepare the data according to our analysis requirements. 1.\tComplete the following preprocessing steps before we apply 3-Anonymity"
   ]
  },
  {
   "cell_type": "markdown",
   "id": "3063083d-973d-46dd-ab9b-09bbd3a29071",
   "metadata": {},
   "source": [
    "#### Question 4.1.a"
   ]
  },
  {
   "cell_type": "markdown",
   "id": "4e13c4f2-0539-4b9e-ac25-4a7f36acb2e7",
   "metadata": {
    "tags": []
   },
   "source": [
    "Remove the direct identifiers columns from the dataset [2 marks]"
   ]
  },
  {
   "cell_type": "code",
   "execution_count": 5,
   "id": "035199f8-4107-4dc2-bc13-a74a3498c023",
   "metadata": {
    "tags": []
   },
   "outputs": [],
   "source": [
    "def anon_remove_columns():\n",
    "\tdata_anon.drop(columns=['Full Name', 'Student ID', 'Email', 'Preferred Email', 'Mobile Number', 'Address'], inplace=True)"
   ]
  },
  {
   "cell_type": "markdown",
   "id": "5b977e46-5b72-4511-a0d1-c92cace3012e",
   "metadata": {},
   "source": [
    "#### Question 4.1.b"
   ]
  },
  {
   "cell_type": "markdown",
   "id": "c6c3f838-6c9c-47a5-9741-db5f4025a241",
   "metadata": {
    "tags": []
   },
   "source": [
    "Convert the ‘DoB’ values to the corresponding age. Rename the column as ‘Age’ [1 mark]"
   ]
  },
  {
   "cell_type": "code",
   "execution_count": 6,
   "id": "ce94f225-7257-4b82-b028-671ea4a49555",
   "metadata": {
    "tags": []
   },
   "outputs": [],
   "source": [
    "def anon_calculate_age():\n",
    "\tdata_anon['DoB'] = pd.to_datetime(data_anon['DoB'], format='%d/%m/%Y')\n",
    "\t# Calculate age\n",
    "\ttoday = datetime.today()\n",
    "\tdata_anon['DoB'] = data_anon['DoB'].apply(lambda dob: today.year - dob.year - ((today.month, today.day) < (dob.month, dob.day)))\n",
    "\t# Rename\n",
    "\tdata_anon.rename(columns={'DoB': 'Age'}, inplace=True)"
   ]
  },
  {
   "cell_type": "markdown",
   "id": "8fb09ec5-0ec2-4de6-98df-ce817a0fe9c8",
   "metadata": {},
   "source": [
    "#### Question 4.1.c"
   ]
  },
  {
   "cell_type": "markdown",
   "id": "06f02d58-c718-4c18-970b-2d5238e498ba",
   "metadata": {},
   "source": [
    "Replace the ‘Gender’ values with the following abbreviations [1 mark] <br>\n",
    "Female = F, Male = M, Other = O"
   ]
  },
  {
   "cell_type": "code",
   "execution_count": 7,
   "id": "c222f38d-5c90-45af-a185-ee3adc4fd525",
   "metadata": {
    "tags": []
   },
   "outputs": [],
   "source": [
    "def anon_replace_gender():\n",
    "\tdata_anon['Gender'] = data_anon['Gender'].str[0]"
   ]
  },
  {
   "cell_type": "markdown",
   "id": "5e8dbf14-278f-41be-afaa-8f01a1dc27c9",
   "metadata": {},
   "source": [
    "#### Question 4.1.d"
   ]
  },
  {
   "cell_type": "markdown",
   "id": "cae2fda4-980b-4aff-90e5-3c893a4deb2e",
   "metadata": {},
   "source": [
    "Replace the ‘Study Field’ values with the following abbreviations [1 mark]<br>\n",
    "Bioengineering = BE        \n",
    "Creative Arts = CA <br>\n",
    "Law = L<br>\n",
    "Arts = A<br>\n",
    "Education and Social Work= ESW<br>\n",
    "Medical and Health Sciences =MHS<br>\n",
    "Business = B<br>\n",
    "Engineering = E <br>\n",
    "Science = S<br>"
   ]
  },
  {
   "cell_type": "code",
   "execution_count": 8,
   "id": "b0853987-18af-47d3-b140-bc7cbf06535c",
   "metadata": {
    "tags": []
   },
   "outputs": [],
   "source": [
    "def anon_replace_studyfield():\n",
    "\t# create a table to match fields\n",
    "\tfield_abbreviations = {\n",
    "    \t'Bioengineering': 'BE',\n",
    "    \t'Creative Arts': 'CA',\n",
    "    \t'Law': 'L',\n",
    "    \t'Arts': 'A',\n",
    "    \t'Education and Social Work': 'ESW',\n",
    "    \t'Medical and Health Sciences': 'MHS',\n",
    "    \t'Business': 'B',\n",
    "    \t'Engineering': 'E',\n",
    "    \t'Science': 'S'\n",
    "\t}\n",
    "\n",
    "\t# Apply the mapping to the 'Study Field' column\n",
    "\tdata_anon['Study Field'] = data_anon['Study Field'].map(field_abbreviations)"
   ]
  },
  {
   "cell_type": "markdown",
   "id": "1d41b5d1-6f6c-430e-b6f9-15af9660c54b",
   "metadata": {},
   "source": [
    "#### Question 4.1.e"
   ]
  },
  {
   "cell_type": "markdown",
   "id": "d4fe9ddd-f6d7-4e63-9e28-791ae7ac9219",
   "metadata": {},
   "source": [
    "Replace ‘Maori’ and ‘Pacific’ values in the ‘Ethnicity’ column with ‘Polynesian’. After that, replace any ethnicity with ‘Other’, if they have less than 5% representation in the dataset [2 marks]"
   ]
  },
  {
   "cell_type": "code",
   "execution_count": 9,
   "id": "8998550b-840d-4881-b28d-20befa3e8db3",
   "metadata": {
    "tags": []
   },
   "outputs": [],
   "source": [
    "def anon_genralise_ethnicity():\n",
    "\t# Replace 'Maori' and 'Pacific' with 'Polynesian'\n",
    "    data_anon['Ethnicity'] = data_anon['Ethnicity'].replace({\n",
    "    \t'Maori': 'Polynesian',\n",
    "    \t'Pacific': 'Polynesian'\n",
    "\t})\n",
    "\n",
    "\t# now we need to calculate proportions\n",
    "\n",
    "\t#count is a dict where each ethnicity has its proportion in dataset as value\n",
    "    ethnicity_counts = data_anon['Ethnicity'].value_counts(normalize=True)\n",
    "\n",
    "\t# get the list of ethnicities to replace\n",
    "    ethnicities_to_replace = []\n",
    "    for ethnicity, proportion in ethnicity_counts.items():\n",
    "        if proportion <= 0.05:\n",
    "            ethnicities_to_replace.append(ethnicity)\n",
    "\n",
    "\t# replace them\n",
    "    data_anon['Ethnicity'] = data_anon['Ethnicity'].replace(\n",
    "    \t{ethnicity: 'Other' for ethnicity in ethnicities_to_replace}\n",
    "\t)"
   ]
  },
  {
   "cell_type": "markdown",
   "id": "dddfe516-9c0c-4e6c-9c4c-07f71755bf51",
   "metadata": {},
   "source": [
    "##### Run the preprocessing method"
   ]
  },
  {
   "cell_type": "code",
   "execution_count": 10,
   "id": "7fbb5c9e-3332-4948-8695-ea3391c2b9e5",
   "metadata": {
    "tags": []
   },
   "outputs": [],
   "source": [
    "def anon_preprocess_data():\n",
    "    anon_remove_columns()\n",
    "    anon_calculate_age()\n",
    "    anon_replace_gender()\n",
    "    anon_replace_studyfield()\n",
    "    anon_genralise_ethnicity()\n",
    "    \n",
    "anon_preprocess_data()"
   ]
  },
  {
   "cell_type": "markdown",
   "id": "53c8be3b-3b95-476e-9411-31e38fc9bd3b",
   "metadata": {
    "tags": []
   },
   "source": [
    "##### Follwoing are the Quasi Identifiers in the dataset."
   ]
  },
  {
   "cell_type": "code",
   "execution_count": 12,
   "id": "1854c5e1-f1d3-40fd-bafe-b07d0ff946cf",
   "metadata": {
    "tags": []
   },
   "outputs": [],
   "source": [
    "qids = ['ZIP','Age', 'Gender', 'Ethnicity', 'Study Field']"
   ]
  },
  {
   "cell_type": "markdown",
   "id": "03262d89-7c8b-4574-8f73-30d988ff3c76",
   "metadata": {},
   "source": [
    "#### Question 4.2"
   ]
  },
  {
   "cell_type": "markdown",
   "id": "dd8aea48-91b7-4663-bd1e-efa1430f2730",
   "metadata": {},
   "source": [
    "Include all the categorical columns in the Quasi Identifiers to the categorical list in the code. [1 marks]"
   ]
  },
  {
   "cell_type": "code",
   "execution_count": 13,
   "id": "a8851d63-c8b6-4573-8249-54c0788ebf0d",
   "metadata": {
    "tags": []
   },
   "outputs": [],
   "source": [
    "categorical = [data_anon[c] for c in qids]"
   ]
  },
  {
   "cell_type": "markdown",
   "id": "c448362a-3481-4182-896c-6020d3101fec",
   "metadata": {},
   "source": [
    "#### Question 4.3"
   ]
  },
  {
   "cell_type": "markdown",
   "id": "052fa49c-4740-473b-b92c-488e9a8a4647",
   "metadata": {
    "tags": []
   },
   "source": [
    "To achieve 3-Anonymous groups, partition the dataset using the algorithm we discussed during the lectures. [10 marks]"
   ]
  },
  {
   "cell_type": "code",
   "execution_count": 145,
   "id": "d9d9cfed-4814-4041-8741-eac6aab89b86",
   "metadata": {
    "tags": []
   },
   "outputs": [],
   "source": [
    "# For a given partition, find the column wise variability\n",
    "def get_qid_variability(partition):\n",
    "    qid_Variability = {}\n",
    "    \n",
    "    for column in qids:\n",
    "        qid_Variability[column] = len(#complete)\n",
    "\n",
    "    qid_Variability = sorted(#complete)\n",
    "    return qid_Variability"
   ]
  },
  {
   "cell_type": "code",
   "execution_count": 146,
   "id": "2559fe78-18fc-4ede-9825-577d4a1910d4",
   "metadata": {
    "tags": []
   },
   "outputs": [],
   "source": [
    "# Split a given partition\n",
    "def split(partition, column):\n",
    "    values = data_anon[column][partition]\n",
    "    \n",
    "    if column in categorical:\n",
    "        unique_categories = values.unique()\n",
    "        #complete\n",
    "    else:\n",
    "        #complete\n",
    "    \n",
    "    return #complete"
   ]
  },
  {
   "cell_type": "code",
   "execution_count": 147,
   "id": "c2c525bc-5498-4b6c-84ce-fe61e8e1d835",
   "metadata": {
    "tags": []
   },
   "outputs": [],
   "source": [
    "# Mondrian algorithm to partition a given dataset\n",
    "def mondrian(k):\n",
    "    final_partitions = []\n",
    "    \n",
    "    #initial partion is the entire dataset\n",
    "    #data.index will give you the labels of the series of rows in the dataset\n",
    "    partitions = [data_anon.index]\n",
    "    \n",
    "    while partitions:\n",
    "        partition = partitions.pop(0)\n",
    "        qid_variability = get_qid_variability(partition)\n",
    "        \n",
    "        #complete\n",
    "        \n",
    "    return #complete"
   ]
  },
  {
   "cell_type": "markdown",
   "id": "34751d4c-e095-4895-8ea5-396f77f7d23d",
   "metadata": {},
   "source": [
    "##### Run the Mondrian algorithm"
   ]
  },
  {
   "cell_type": "code",
   "execution_count": 148,
   "id": "f12b6f76-be51-4393-8523-247601a49f09",
   "metadata": {
    "tags": []
   },
   "outputs": [],
   "source": [
    "final_partitions = mondrian(3)"
   ]
  },
  {
   "cell_type": "markdown",
   "id": "c0e3afb4-4872-4989-ad9c-bb4ff93320cd",
   "metadata": {},
   "source": [
    "#### Question 4.4"
   ]
  },
  {
   "cell_type": "markdown",
   "id": "db9ac309-6a21-43d8-86ca-dfad4f5ebfa5",
   "metadata": {},
   "source": [
    "Apply anonymization to the partitioned dataset. Use the following guidelines when anonymizing the data. Refer to the attached images to get a clearer idea about the guidelines. (Zip column is already done for you). For each partition:"
   ]
  },
  {
   "cell_type": "markdown",
   "id": "f75f8dd1-625a-486a-ba8b-6ef70f1b6c2d",
   "metadata": {},
   "source": [
    "<b>Age</b> - Replace with the average age in the partition. Use the round() to round the value into maximum of 2 decimal places [1 mark]<br>\n",
    "<b>Gender</b> The values should be replaced with the value ‘human’ if the partition has non-unique gender values [1 mark] <br>\n",
    "<b>Ethnicity</b> and <b>Study Field</b> <br>*  If there are only 2 or 3 unique values in the partition, join them using the delimiter “~” and replace the original values with it <br>* Otherwise, replace the values with a “*” \n",
    "[3 marks] "
   ]
  },
  {
   "cell_type": "code",
   "execution_count": 151,
   "id": "30346940-a784-4b61-9aae-1c571fae646a",
   "metadata": {
    "tags": []
   },
   "outputs": [],
   "source": [
    "def build_anonymized_dataset():\n",
    "    anonymized_data = data_anon.copy()\n",
    "    \n",
    "    # 1.Bring QIDs together (Put the session offered and attended after QIDs)\n",
    "    anonymized_data = anonymized_data[qids + [col for col in anonymized_data.columns if col not in qids]]\n",
    "    \n",
    "    # 2. Bring the rows in each partition closer so that we can clearly see the groups\n",
    "    desired_order = []\n",
    "    for partition_index,partition in enumerate(final_partitions):\n",
    "        desired_order.extend(partition)\n",
    "        \n",
    "    anonymized_data = anonymized_data.reindex(desired_order)\n",
    " \n",
    "    # 3. Apply generalisation and suppression to QIDs, if applicable\n",
    "    for partition_index,partition in enumerate(final_partitions):\n",
    "        for column in qids:\n",
    "            values_in_partition = anonymized_data.loc[list(partition), column]\n",
    "            unique_values = values_in_partition.unique()\n",
    "            \n",
    "            if column in categorical:\n",
    "                if column == 'Gender':\n",
    "                    #complete\n",
    "                elif column == 'Ethnicity' or column == 'Study Field':\n",
    "                    #complete\n",
    "            else:\n",
    "                if column == 'Age':\n",
    "                    #complete\n",
    "                elif column == 'ZIP':\n",
    "                    str_column = anonymized_data.loc[list(partition), column].apply(str)\n",
    "                    \n",
    "                    if len(unique_values) > 1:\n",
    "                        if str_column.str.len().nunique() == len(partition):\n",
    "                            anonymized_data.loc[list(partition), column] = \"*\"\n",
    "                        else:\n",
    "                            length = str_column.str.len().iloc[0]\n",
    "                            for i in range(length):\n",
    "                                if str_column.str[i].nunique() >1:\n",
    "                                    first_non_unique_index = i\n",
    "                                    break;                  \n",
    "                    \n",
    "                            if(first_non_unique_index == 0):\n",
    "                                replacement_str = \"*\"\n",
    "                            else:\n",
    "                                replacement_str = str_column.str[:first_non_unique_index] + '*' * (length - first_non_unique_index)  \n",
    "                    \n",
    "                            anonymized_data.loc[list(partition), column] =  replacement_str\n",
    "                            \n",
    "\n",
    "    return anonymized_data"
   ]
  },
  {
   "cell_type": "markdown",
   "id": "7a39ab25-8abe-4444-bb31-0328335c49f4",
   "metadata": {},
   "source": [
    "##### Run the anonymisation"
   ]
  },
  {
   "cell_type": "code",
   "execution_count": 152,
   "id": "fb4b7bc1-754a-4ab8-82f5-bb82ed347cf6",
   "metadata": {
    "tags": []
   },
   "outputs": [],
   "source": [
    "data_anonymised = build_anonymized_dataset()"
   ]
  },
  {
   "cell_type": "markdown",
   "id": "e2cdc9c9-35e5-4fd3-a6d8-675d9c00773f",
   "metadata": {},
   "source": [
    "##### Run this function to display the final dataset"
   ]
  },
  {
   "cell_type": "code",
   "execution_count": null,
   "id": "daf693a8-c128-49c3-a8a7-926fda360a61",
   "metadata": {},
   "outputs": [],
   "source": [
    "# Alternate partitions are colored in yellow for your clarity\n",
    "def styled_data(data_frame):\n",
    "    colored_rows =[]\n",
    "\n",
    "    for partition_index,partition in enumerate(final_partitions):\n",
    "        if partition_index % 2 == 0:\n",
    "            colored_rows.extend(partition.values)\n",
    "    return data_frame.style.set_properties(subset = pd.IndexSlice[colored_rows, qids], **{'background-color' : 'yellow'})\n",
    "\n",
    "styled_data(data_anonymised)"
   ]
  },
  {
   "cell_type": "markdown",
   "id": "38a86d06-08f3-4d15-ba03-7104f644d741",
   "metadata": {},
   "source": [
    "#### Question 4.5"
   ]
  },
  {
   "cell_type": "markdown",
   "id": "3c130612-3ed8-4dc1-a168-67d3133d300c",
   "metadata": {
    "tags": []
   },
   "source": [
    "Run the below code to verify that your code satisfies 3-Anonymity [2 marks]"
   ]
  },
  {
   "cell_type": "code",
   "execution_count": null,
   "id": "91b57246-aadc-438a-8cda-49c71b8bff99",
   "metadata": {},
   "outputs": [],
   "source": [
    "# Run this code to see if the anonymised dataset satisfies 3-Anonymity\n",
    "\n",
    "def isKAnonymized(dataset, k):\n",
    "    dataset_copy = dataset.copy()\n",
    "    dataset_copy = dataset_copy.astype(str)\n",
    "    \n",
    "    for index, row in dataset_copy.iterrows():\n",
    "        query = ' & '.join([f'`{qid}` == \"{row[qid]}\"' for qid in qids])\n",
    "        matching_rows = dataset_copy.query(query)\n",
    "        if len(matching_rows) < k:\n",
    "            print(f\"Fail!!..... The dataset is not {k}-Anonymised. Check your implementation\")\n",
    "            return\n",
    "    print(f'Congratulation!!.... The dataset satisfies {k}-Anonymisation')\n",
    "    \n",
    "isKAnonymized(data_anonymised, 3)"
   ]
  },
  {
   "cell_type": "markdown",
   "id": "3029d7f6-fc83-497e-80b5-2389636de863",
   "metadata": {},
   "source": [
    "# Question 5 (25 marks)"
   ]
  },
  {
   "cell_type": "markdown",
   "id": "1f8ff382-fcac-414b-bf40-93027ec83f6c",
   "metadata": {},
   "source": [
    "An external research team is requesting to analyse the <b>“UOA_counseling_dataset.csv”</b>. As a privacy expert, you need to create differentially private algorithms to securely release the data to the researchers.\n",
    "The research team intends to analyse the psychological issues of UoA students based on their age and ethnicity.<br>\n",
    "<br>\n",
    "<b>Additional information:</b> <br>\n",
    "•\t7 ethnicities: European, Asian, Maori, Middle Eastern, Latin American, African, and Pacific are in the dataset<br>\n",
    "•\tMinimum age in the dataset is 19<br>\n",
    "•\tNo human will enrol in a university after 90\n",
    "\n"
   ]
  },
  {
   "cell_type": "code",
   "execution_count": 174,
   "id": "16785aa1-f10c-45f9-9c3b-855b2268ad20",
   "metadata": {
    "tags": []
   },
   "outputs": [],
   "source": [
    "#Load the dataset\n",
    "data_dp = pd.read_csv('UOA_counseling_dataset.csv')"
   ]
  },
  {
   "cell_type": "code",
   "execution_count": 175,
   "id": "a5adaae8-d3a0-4a16-a094-7b6e7a039b42",
   "metadata": {
    "tags": []
   },
   "outputs": [
    {
     "name": "stdout",
     "output_type": "stream",
     "text": [
      "<class 'pandas.core.frame.DataFrame'>\n",
      "RangeIndex: 500 entries, 0 to 499\n",
      "Data columns (total 25 columns):\n",
      " #   Column             Non-Null Count  Dtype \n",
      "---  ------             --------------  ----- \n",
      " 0   Full Name          500 non-null    object\n",
      " 1   Student ID         500 non-null    object\n",
      " 2   Email              500 non-null    object\n",
      " 3   Preferred Email    500 non-null    object\n",
      " 4   Mobile Number      500 non-null    int64 \n",
      " 5   Address            500 non-null    object\n",
      " 6   ZIP                500 non-null    int64 \n",
      " 7   DoB                500 non-null    object\n",
      " 8   Sessions Offered   500 non-null    int64 \n",
      " 9   Sessions Attended  500 non-null    int64 \n",
      " 10  Gender             500 non-null    object\n",
      " 11  Ethnicity          500 non-null    object\n",
      " 12  Study Field        500 non-null    object\n",
      " 13  Sexual Abuse       500 non-null    int64 \n",
      " 14  Suicidal           500 non-null    int64 \n",
      " 15  Self Harm          500 non-null    int64 \n",
      " 16  Anxiety            500 non-null    int64 \n",
      " 17  Depression         500 non-null    int64 \n",
      " 18  Eating Disorder    500 non-null    int64 \n",
      " 19  Health             500 non-null    int64 \n",
      " 20  Risk to Others     500 non-null    int64 \n",
      " 21  Anger              500 non-null    int64 \n",
      " 22  Alcohol            500 non-null    int64 \n",
      " 23  Drugs              500 non-null    int64 \n",
      " 24  Smoking            500 non-null    int64 \n",
      "dtypes: int64(16), object(9)\n",
      "memory usage: 97.8+ KB\n"
     ]
    }
   ],
   "source": [
    "#List down the column names\n",
    "data_dp.info()"
   ]
  },
  {
   "cell_type": "markdown",
   "id": "0eb8784c-596f-4307-a25c-0c0fc9e1f744",
   "metadata": {
    "tags": []
   },
   "source": [
    "### Question 5.1"
   ]
  },
  {
   "cell_type": "markdown",
   "id": "de19fcfc-b6ad-4855-a985-f94441d4cce7",
   "metadata": {},
   "source": [
    "Complete the preprocessing steps"
   ]
  },
  {
   "cell_type": "markdown",
   "id": "b176536b-62e0-47c0-b6ef-1fcb14472bc4",
   "metadata": {},
   "source": [
    "#### Question 5.1.a"
   ]
  },
  {
   "cell_type": "markdown",
   "id": "701706d3-d2cf-4971-8e03-98daef6575e7",
   "metadata": {},
   "source": [
    "Remove the columns that are not required for the research team’s analysis. [2 marks]"
   ]
  },
  {
   "cell_type": "code",
   "execution_count": 176,
   "id": "5e76fdc6-ac75-4042-b44c-90680e981308",
   "metadata": {
    "tags": []
   },
   "outputs": [],
   "source": [
    "def dp_remove_columns():\n",
    "    data_dp.drop(columns = [#complete], inplace = True)"
   ]
  },
  {
   "cell_type": "markdown",
   "id": "471c7158-99cf-4dca-89e3-bd8123e453e4",
   "metadata": {},
   "source": [
    "#### Question 5.1.b"
   ]
  },
  {
   "cell_type": "markdown",
   "id": "46580115-2985-4505-8cb7-62c3af8d0f6c",
   "metadata": {
    "tags": []
   },
   "source": [
    "Convert the ‘DoB’ values to the corresponding age. Rename the column as ‘Age’ [1 mark]"
   ]
  },
  {
   "cell_type": "code",
   "execution_count": 177,
   "id": "e194b619-ad79-4001-bd25-832dad1338dc",
   "metadata": {
    "tags": []
   },
   "outputs": [],
   "source": [
    "def dp_calculate_age():\n",
    "    # complete"
   ]
  },
  {
   "cell_type": "markdown",
   "id": "38832777-1019-474e-9311-13e981b08ef0",
   "metadata": {},
   "source": [
    "##### Run the preprocessing method"
   ]
  },
  {
   "cell_type": "code",
   "execution_count": 178,
   "id": "343b661f-e892-4b2b-8519-7f471c488a61",
   "metadata": {
    "tags": []
   },
   "outputs": [],
   "source": [
    "def dp_preprocess_data():\n",
    "    dp_remove_columns()\n",
    "    dp_calculate_age()\n",
    "    \n",
    "dp_preprocess_data()"
   ]
  },
  {
   "cell_type": "markdown",
   "id": "b43a8a02-7452-43f8-b1c1-92e9ce6c0f2f",
   "metadata": {
    "tags": []
   },
   "source": [
    "### Question 5.2"
   ]
  },
  {
   "cell_type": "markdown",
   "id": "f2977693-2de2-4fda-8700-1501fcfdd1bb",
   "metadata": {},
   "source": [
    "<b>Query:</b> “What is the average age of the students that participated in the counselling sessions?”.  You can assume: 0 < epsilon <= 1"
   ]
  },
  {
   "cell_type": "markdown",
   "id": "af7d4872-f4ec-41ae-83e6-05fe5ed25c04",
   "metadata": {},
   "source": [
    "#### Question 5.2.a"
   ]
  },
  {
   "cell_type": "markdown",
   "id": "f4566f71-2958-4e8f-947f-1ed6a916e6f4",
   "metadata": {},
   "source": [
    "Complete and run the function to identify a suitable maximum age in teh dataset using differentially private clipping [3 marks]"
   ]
  },
  {
   "cell_type": "code",
   "execution_count": null,
   "id": "6ea0a427-1493-40a2-bed3-1716196ad92a",
   "metadata": {},
   "outputs": [],
   "source": [
    "def clipping_graph():\n",
    "    results = []\n",
    "\n",
    "    for i in range(#complete):\n",
    "        #complete\n",
    "        \n",
    "        results.append(#complete)\n",
    "\n",
    "    plt.plot(#complete, result)  #first the range of i - for the x axis\n",
    "    plt.xlabel('Clipping Bound for Age')\n",
    "    plt.ylabel('Noisy Total Age');\n",
    "    \n",
    "clipping_graph()"
   ]
  },
  {
   "cell_type": "markdown",
   "id": "2359c10c-d251-4749-8c98-0f4cbe961c7e",
   "metadata": {
    "tags": []
   },
   "source": [
    "#### Question 5.2.b"
   ]
  },
  {
   "cell_type": "markdown",
   "id": "645f351e-5fb0-4fe1-872a-f5cb28dce902",
   "metadata": {},
   "source": [
    "What is the maximum age that you selected by looking at the graph? [2 mark]"
   ]
  },
  {
   "cell_type": "markdown",
   "id": "618f2cff-2322-4637-a4f8-0b1ae7f992c5",
   "metadata": {},
   "source": [
    "<font color=\"blue\"> Write your answer </font>"
   ]
  },
  {
   "cell_type": "markdown",
   "id": "97aa6c4b-468b-4622-a6b2-9c7d5970d513",
   "metadata": {
    "tags": []
   },
   "source": [
    "#### Question 5.2.c"
   ]
  },
  {
   "cell_type": "markdown",
   "id": "2c082883-58bc-49dd-aec0-80db97d33adb",
   "metadata": {
    "tags": []
   },
   "source": [
    "Complete and run the function to release the differentially private query result [3 marks]"
   ]
  },
  {
   "cell_type": "code",
   "execution_count": null,
   "id": "59275dce-71a6-4863-8f2c-c5f2e4814898",
   "metadata": {},
   "outputs": [],
   "source": [
    "real_sum = data_dp['Age'].sum()\n",
    "real_count = len(data_dp)\n",
    "\n",
    "senstivityAge = #complete\n",
    "senstivityCount = #complete\n",
    "\n",
    "epsilonAge = #complete\n",
    "epsilonCount = #complete\n",
    "\n",
    "def get_noisy_age(senstivity, epsilon):\n",
    "    #complete\n",
    "\n",
    "def get_noisy_count(senstivity, epsilon):\n",
    "    #complete\n",
    "\n",
    "def get_noisy_average_age(senstivityAge, epsilonAge, senstivityCount, epsilonCount):\n",
    "    #complete\n",
    "    \n",
    "get_noisy_average_age(senstivityAge , epsilonAge, senstivityCount, epsilonCount)"
   ]
  },
  {
   "cell_type": "markdown",
   "id": "0d386d6e-bd98-429a-9deb-6122c42e7a3a",
   "metadata": {},
   "source": [
    "#### Question 5.2.d"
   ]
  },
  {
   "cell_type": "markdown",
   "id": "c05aa03c-efc2-4069-b7f6-8b3f42e567f8",
   "metadata": {},
   "source": [
    "Describe your function in a simple manner. Mention all the sensitivities and epsilon values used with appropriate justifications [4 marks]"
   ]
  },
  {
   "cell_type": "markdown",
   "id": "f305acf8-4e01-4f46-b22b-2c35e51e1807",
   "metadata": {
    "tags": []
   },
   "source": [
    "<font color=\"blue\"> Write your answer </font>"
   ]
  },
  {
   "cell_type": "markdown",
   "id": "1c662816-6d2c-4630-a36b-69010e6db6ef",
   "metadata": {
    "tags": []
   },
   "source": [
    "#### Question 5.2.e"
   ]
  },
  {
   "cell_type": "markdown",
   "id": "48eceb27-665a-46a8-aa20-9af938e528de",
   "metadata": {
    "tags": []
   },
   "source": [
    "For <b>each</b> epsilon value in epsilons, run the <b>get_noisy_average_age()</b> for 1000 times. Calculate the average error for each epsilon. You can pass the same epsilon value for 2nd and 4th parameters of get_noisy_average_age() Complete and run the below code to achieve it. Describe the results you got with proper reasoning. [4 marks]\n",
    "\n",
    "error = |noisy value - real value|"
   ]
  },
  {
   "cell_type": "code",
   "execution_count": null,
   "id": "75b80483-b132-45a4-82dd-4025b6a41479",
   "metadata": {},
   "outputs": [],
   "source": [
    "epsilons = [0.01, 0.5, 2]\n",
    "average_error = []\n",
    "\n",
    "for epsilon in epsilons:\n",
    "    # complete\n",
    "\n",
    "data_average_error = {\n",
    "    'Epsilon': epsilons,\n",
    "    'Average Error': average_error\n",
    "}\n",
    "\n",
    "pd.DataFrame(data_average_error)"
   ]
  },
  {
   "cell_type": "markdown",
   "id": "49e906ff-5c28-4051-a248-ecb4c4556835",
   "metadata": {},
   "source": [
    "<font color=\"blue\"> Write your answer </font>"
   ]
  },
  {
   "cell_type": "markdown",
   "id": "3b3a84e3-ddca-48b4-b8a7-3742a5b796e3",
   "metadata": {},
   "source": [
    "### Question 5.3"
   ]
  },
  {
   "cell_type": "markdown",
   "id": "5e2cd0d2-f6b5-4026-a91d-5aabf7c546b8",
   "metadata": {},
   "source": [
    "In this question, the original dataset is partitioned so that we can release differentially private results according to parallel composition. Execute the below code to see the partitioned dataset."
   ]
  },
  {
   "cell_type": "code",
   "execution_count": null,
   "id": "0e94956e-4468-4cd5-ac2a-e73af468e62f",
   "metadata": {},
   "outputs": [],
   "source": [
    "# Get the unique Ethnicities in the preprocessed_data into one array unique_ethnicities\n",
    "unique_ethnicities = data_dp['Ethnicity'].unique()\n",
    "\n",
    "# For each ethnicity, get the Total Age of the people who have anxiety into an array total_age\n",
    "count = []\n",
    "for ethnicity in unique_ethnicities:\n",
    "    count.append(len(data_dp[(data_dp['Anxiety'] == 1) & (data_dp['Ethnicity'] == ethnicity)]))\n",
    "\n",
    "# Merge the two arrays into tuples. This is already done for you\n",
    "data_dp_part = pd.DataFrame({\n",
    "    'Ethnicity': unique_ethnicities,\n",
    "    'Count': count\n",
    "})\n",
    "\n",
    "data_dp_part"
   ]
  },
  {
   "cell_type": "markdown",
   "id": "075923cc-6ad3-4731-bc61-e3801d8364a3",
   "metadata": {},
   "source": [
    "#### Question 5.3.a"
   ]
  },
  {
   "cell_type": "markdown",
   "id": "7978400b-ef1e-47d1-afc9-069a70c4a591",
   "metadata": {},
   "source": [
    "What is the total privacy loss? Justify you answer [3 marks]"
   ]
  },
  {
   "cell_type": "markdown",
   "id": "d471b4e0-063f-4e68-94c8-69f32bff5e76",
   "metadata": {},
   "source": [
    "<font color=\"blue\"> Write your answer </font>"
   ]
  },
  {
   "cell_type": "markdown",
   "id": "2959a693-52ce-4a7d-9f59-38544143c04e",
   "metadata": {},
   "source": [
    "#### Question 5.3.b"
   ]
  },
  {
   "cell_type": "markdown",
   "id": "17194cb8-1fab-4336-aa44-85d7d4335ea4",
   "metadata": {
    "tags": []
   },
   "source": [
    "What are the benefits of parallel composition? [3 marks] "
   ]
  },
  {
   "cell_type": "markdown",
   "id": "41209138-32f4-4576-bfb8-16a1c99d0660",
   "metadata": {
    "tags": []
   },
   "source": [
    "<font color=\"blue\"> Write your answer </font>"
   ]
  }
 ],
 "metadata": {
  "kernelspec": {
   "display_name": "Python 3 (ipykernel)",
   "language": "python",
   "name": "python3"
  },
  "language_info": {
   "codemirror_mode": {
    "name": "ipython",
    "version": 3
   },
   "file_extension": ".py",
   "mimetype": "text/x-python",
   "name": "python",
   "nbconvert_exporter": "python",
   "pygments_lexer": "ipython3",
   "version": "3.12.4"
  }
 },
 "nbformat": 4,
 "nbformat_minor": 5
}
